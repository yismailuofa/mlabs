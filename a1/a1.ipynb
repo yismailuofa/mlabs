{
 "cells": [
  {
   "cell_type": "markdown",
   "metadata": {},
   "source": [
    "#### Question 1: How would you define terms restriction bias and preference bias? What is a difference between them?\n",
    "\n",
    "Both are inductive biases which occur when choosing different ML algorithims.\n",
    "\n",
    "Restriction bias is the bias formed from choosing certain classes of models over others, like only selecting tree or linear models. \n",
    "\n",
    "Preference bias is the bias of certain models over others within a certain class of model such as choosing shallow trees over larger trees.\n",
    "\n",
    "A difference between them is that preference bias is typically more focussed on biases within classes of models while restriction bias is a more general bias on the types of models considered initally."
   ]
  },
  {
   "cell_type": "code",
   "execution_count": null,
   "metadata": {},
   "outputs": [],
   "source": []
  }
 ],
 "metadata": {
  "kernelspec": {
   "display_name": "Python 3",
   "language": "python",
   "name": "python3"
  },
  "language_info": {
   "name": "python",
   "version": "3.11.7"
  }
 },
 "nbformat": 4,
 "nbformat_minor": 2
}
