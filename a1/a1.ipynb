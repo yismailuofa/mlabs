{
 "cells": [
  {
   "cell_type": "markdown",
   "metadata": {},
   "source": [
    "# ECE 447 Assignment 1 - Youssef Ismail\n"
   ]
  },
  {
   "cell_type": "markdown",
   "metadata": {},
   "source": [
    "### Question 1\n"
   ]
  },
  {
   "cell_type": "markdown",
   "metadata": {},
   "source": [
    "Both are inductive biases which occur when choosing different ML algorithims.\n",
    "\n",
    "Restriction bias is the bias formed from choosing certain classes of models over others, like only selecting tree or linear models.\n",
    "\n",
    "Preference bias is the bias of certain models over others within a certain class of model such as choosing shallow trees over larger trees.\n",
    "\n",
    "A difference between them is that preference bias is typically more focussed on biases within classes of models while restriction bias is a more general bias on the types of models considered initally.\n"
   ]
  },
  {
   "cell_type": "markdown",
   "metadata": {},
   "source": [
    "### Question 2\n"
   ]
  },
  {
   "cell_type": "code",
   "execution_count": 104,
   "metadata": {},
   "outputs": [],
   "source": [
    "import pandas as pd\n",
    "import matplotlib.pyplot as plt\n",
    "import numpy as np"
   ]
  },
  {
   "cell_type": "code",
   "execution_count": 105,
   "metadata": {},
   "outputs": [
    {
     "data": {
      "text/html": [
       "<div>\n",
       "<style scoped>\n",
       "    .dataframe tbody tr th:only-of-type {\n",
       "        vertical-align: middle;\n",
       "    }\n",
       "\n",
       "    .dataframe tbody tr th {\n",
       "        vertical-align: top;\n",
       "    }\n",
       "\n",
       "    .dataframe thead th {\n",
       "        text-align: right;\n",
       "    }\n",
       "</style>\n",
       "<table border=\"1\" class=\"dataframe\">\n",
       "  <thead>\n",
       "    <tr style=\"text-align: right;\">\n",
       "      <th></th>\n",
       "      <th>Country</th>\n",
       "      <th>Life Expectancy</th>\n",
       "      <th>Infant Mortality</th>\n",
       "      <th>Education</th>\n",
       "      <th>Health</th>\n",
       "      <th>Health USD</th>\n",
       "    </tr>\n",
       "  </thead>\n",
       "  <tbody>\n",
       "    <tr>\n",
       "      <th>0</th>\n",
       "      <td>Argentina</td>\n",
       "      <td>75.592</td>\n",
       "      <td>13.5</td>\n",
       "      <td>16.841</td>\n",
       "      <td>9.525</td>\n",
       "      <td>734.093</td>\n",
       "    </tr>\n",
       "    <tr>\n",
       "      <th>1</th>\n",
       "      <td>Cameroon</td>\n",
       "      <td>53.288</td>\n",
       "      <td>67.7</td>\n",
       "      <td>7.137</td>\n",
       "      <td>4.915</td>\n",
       "      <td>60.412</td>\n",
       "    </tr>\n",
       "    <tr>\n",
       "      <th>2</th>\n",
       "      <td>Chile</td>\n",
       "      <td>78.936</td>\n",
       "      <td>7.8</td>\n",
       "      <td>17.356</td>\n",
       "      <td>8.400</td>\n",
       "      <td>801.915</td>\n",
       "    </tr>\n",
       "    <tr>\n",
       "      <th>3</th>\n",
       "      <td>Colombia</td>\n",
       "      <td>73.213</td>\n",
       "      <td>16.5</td>\n",
       "      <td>15.589</td>\n",
       "      <td>7.600</td>\n",
       "      <td>391.859</td>\n",
       "    </tr>\n",
       "    <tr>\n",
       "      <th>4</th>\n",
       "      <td>Cuba</td>\n",
       "      <td>78.552</td>\n",
       "      <td>4.8</td>\n",
       "      <td>44.173</td>\n",
       "      <td>12.100</td>\n",
       "      <td>672.204</td>\n",
       "    </tr>\n",
       "  </tbody>\n",
       "</table>\n",
       "</div>"
      ],
      "text/plain": [
       "     Country  Life Expectancy  Infant Mortality  Education  Health  Health USD\n",
       "0  Argentina           75.592              13.5     16.841   9.525     734.093\n",
       "1   Cameroon           53.288              67.7      7.137   4.915      60.412\n",
       "2      Chile           78.936               7.8     17.356   8.400     801.915\n",
       "3   Colombia           73.213              16.5     15.589   7.600     391.859\n",
       "4       Cuba           78.552               4.8     44.173  12.100     672.204"
      ]
     },
     "execution_count": 105,
     "metadata": {},
     "output_type": "execute_result"
    }
   ],
   "source": [
    "# Read input data\n",
    "df = pd.read_csv(\"data/data-Q2.csv\")\n",
    "df.head()"
   ]
  },
  {
   "cell_type": "code",
   "execution_count": 106,
   "metadata": {},
   "outputs": [
    {
     "data": {
      "text/html": [
       "<div>\n",
       "<style scoped>\n",
       "    .dataframe tbody tr th:only-of-type {\n",
       "        vertical-align: middle;\n",
       "    }\n",
       "\n",
       "    .dataframe tbody tr th {\n",
       "        vertical-align: top;\n",
       "    }\n",
       "\n",
       "    .dataframe thead th {\n",
       "        text-align: right;\n",
       "    }\n",
       "</style>\n",
       "<table border=\"1\" class=\"dataframe\">\n",
       "  <thead>\n",
       "    <tr style=\"text-align: right;\">\n",
       "      <th></th>\n",
       "      <th>Life Expectancy</th>\n",
       "      <th>Infant Mortality</th>\n",
       "      <th>Education</th>\n",
       "      <th>Health</th>\n",
       "      <th>Health USD</th>\n",
       "    </tr>\n",
       "  </thead>\n",
       "  <tbody>\n",
       "    <tr>\n",
       "      <th>Life Expectancy</th>\n",
       "      <td>1.000000</td>\n",
       "      <td>-0.960733</td>\n",
       "      <td>0.476788</td>\n",
       "      <td>0.572329</td>\n",
       "      <td>0.776000</td>\n",
       "    </tr>\n",
       "    <tr>\n",
       "      <th>Infant Mortality</th>\n",
       "      <td>-0.960733</td>\n",
       "      <td>1.000000</td>\n",
       "      <td>-0.504438</td>\n",
       "      <td>-0.500287</td>\n",
       "      <td>-0.735988</td>\n",
       "    </tr>\n",
       "    <tr>\n",
       "      <th>Education</th>\n",
       "      <td>0.476788</td>\n",
       "      <td>-0.504438</td>\n",
       "      <td>1.000000</td>\n",
       "      <td>0.689247</td>\n",
       "      <td>0.527062</td>\n",
       "    </tr>\n",
       "    <tr>\n",
       "      <th>Health</th>\n",
       "      <td>0.572329</td>\n",
       "      <td>-0.500287</td>\n",
       "      <td>0.689247</td>\n",
       "      <td>1.000000</td>\n",
       "      <td>0.759742</td>\n",
       "    </tr>\n",
       "    <tr>\n",
       "      <th>Health USD</th>\n",
       "      <td>0.776000</td>\n",
       "      <td>-0.735988</td>\n",
       "      <td>0.527062</td>\n",
       "      <td>0.759742</td>\n",
       "      <td>1.000000</td>\n",
       "    </tr>\n",
       "  </tbody>\n",
       "</table>\n",
       "</div>"
      ],
      "text/plain": [
       "                  Life Expectancy  Infant Mortality  Education    Health  \\\n",
       "Life Expectancy          1.000000         -0.960733   0.476788  0.572329   \n",
       "Infant Mortality        -0.960733          1.000000  -0.504438 -0.500287   \n",
       "Education                0.476788         -0.504438   1.000000  0.689247   \n",
       "Health                   0.572329         -0.500287   0.689247  1.000000   \n",
       "Health USD               0.776000         -0.735988   0.527062  0.759742   \n",
       "\n",
       "                  Health USD  \n",
       "Life Expectancy     0.776000  \n",
       "Infant Mortality   -0.735988  \n",
       "Education           0.527062  \n",
       "Health              0.759742  \n",
       "Health USD          1.000000  "
      ]
     },
     "execution_count": 106,
     "metadata": {},
     "output_type": "execute_result"
    }
   ],
   "source": [
    "# Calculate the correlation between the LIFE EXPECTANCY and all other features.\n",
    "corr = df.drop(\"Country\", axis=1).corr()\n",
    "corr"
   ]
  },
  {
   "cell_type": "code",
   "execution_count": 107,
   "metadata": {},
   "outputs": [
    {
     "data": {
      "image/png": "[encoded data removed]",
      "text/plain": [
       "<Figure size 480x480 with 2 Axes>"
      ]
     },
     "metadata": {},
     "output_type": "display_data"
    }
   ],
   "source": [
    "# Plot the correlation matrix as a heatmap\n",
    "plt.matshow(corr)\n",
    "plt.colorbar()\n",
    "plt.xticks(range(len(corr.columns)), corr.columns)\n",
    "plt.yticks(range(len(corr.columns)), corr.columns)\n",
    "plt.xticks(rotation=90)\n",
    "plt.show()"
   ]
  },
  {
   "cell_type": "markdown",
   "metadata": {},
   "source": [
    "We can notice a few trends in the data:\n",
    "\n",
    "1. Infant mortality and life exptancy are negatively correlated. This is because countries with higher infant mortality rates will have lower life expectancy.\n",
    "\n",
    "2. Health USD spending and life expectancy are positively correlated. This is because countries with higher health spending will have better health care and higher life expectancy.\n",
    "\n",
    "3. Infant mortality and health USD spending are negatively correlated. This is because countries with higher health spending will have better health care and lower infant mortality.\n",
    "\n",
    "4. An interesting trend is that Health spending as a percentage of GDP does not seem to be as correlated with life expectancy as health spending in USD.\n",
    "   This might be because countries with higher GDP will have higher health spending in USD, but not necessarily higher health spending as a percentage of GDP.\n"
   ]
  },
  {
   "cell_type": "markdown",
   "metadata": {},
   "source": [
    "### Question 3\n"
   ]
  },
  {
   "cell_type": "code",
   "execution_count": 108,
   "metadata": {},
   "outputs": [
    {
     "data": {
      "text/html": [
       "<div>\n",
       "<style scoped>\n",
       "    .dataframe tbody tr th:only-of-type {\n",
       "        vertical-align: middle;\n",
       "    }\n",
       "\n",
       "    .dataframe tbody tr th {\n",
       "        vertical-align: top;\n",
       "    }\n",
       "\n",
       "    .dataframe thead th {\n",
       "        text-align: right;\n",
       "    }\n",
       "</style>\n",
       "<table border=\"1\" class=\"dataframe\">\n",
       "  <thead>\n",
       "    <tr style=\"text-align: right;\">\n",
       "      <th></th>\n",
       "      <th>ID</th>\n",
       "      <th>Target</th>\n",
       "      <th>Model 1 Score</th>\n",
       "      <th>Model 2 Score</th>\n",
       "    </tr>\n",
       "  </thead>\n",
       "  <tbody>\n",
       "    <tr>\n",
       "      <th>0</th>\n",
       "      <td>1</td>\n",
       "      <td>False</td>\n",
       "      <td>0.1026</td>\n",
       "      <td>0.2089</td>\n",
       "    </tr>\n",
       "    <tr>\n",
       "      <th>1</th>\n",
       "      <td>2</td>\n",
       "      <td>False</td>\n",
       "      <td>0.2937</td>\n",
       "      <td>0.0080</td>\n",
       "    </tr>\n",
       "    <tr>\n",
       "      <th>2</th>\n",
       "      <td>3</td>\n",
       "      <td>True</td>\n",
       "      <td>0.5120</td>\n",
       "      <td>0.8378</td>\n",
       "    </tr>\n",
       "    <tr>\n",
       "      <th>3</th>\n",
       "      <td>4</td>\n",
       "      <td>True</td>\n",
       "      <td>0.8645</td>\n",
       "      <td>0.7160</td>\n",
       "    </tr>\n",
       "    <tr>\n",
       "      <th>4</th>\n",
       "      <td>5</td>\n",
       "      <td>False</td>\n",
       "      <td>0.1987</td>\n",
       "      <td>0.1891</td>\n",
       "    </tr>\n",
       "  </tbody>\n",
       "</table>\n",
       "</div>"
      ],
      "text/plain": [
       "   ID  Target  Model 1 Score  Model 2 Score\n",
       "0   1   False         0.1026         0.2089\n",
       "1   2   False         0.2937         0.0080\n",
       "2   3    True         0.5120         0.8378\n",
       "3   4    True         0.8645         0.7160\n",
       "4   5   False         0.1987         0.1891"
      ]
     },
     "execution_count": 108,
     "metadata": {},
     "output_type": "execute_result"
    }
   ],
   "source": [
    "# Read input data\n",
    "originalDf = pd.read_csv(\"data/data-Q3.csv\")\n",
    "originalDf.head()"
   ]
  },
  {
   "cell_type": "markdown",
   "metadata": {},
   "source": [
    "#### 3a\n"
   ]
  },
  {
   "cell_type": "code",
   "execution_count": 109,
   "metadata": {},
   "outputs": [
    {
     "data": {
      "text/html": [
       "<div>\n",
       "<style scoped>\n",
       "    .dataframe tbody tr th:only-of-type {\n",
       "        vertical-align: middle;\n",
       "    }\n",
       "\n",
       "    .dataframe tbody tr th {\n",
       "        vertical-align: top;\n",
       "    }\n",
       "\n",
       "    .dataframe thead th {\n",
       "        text-align: right;\n",
       "    }\n",
       "</style>\n",
       "<table border=\"1\" class=\"dataframe\">\n",
       "  <thead>\n",
       "    <tr style=\"text-align: right;\">\n",
       "      <th></th>\n",
       "      <th>ID</th>\n",
       "      <th>Target</th>\n",
       "      <th>Model 1 Score</th>\n",
       "      <th>Model 2 Score</th>\n",
       "      <th>Model 1 Score Pred</th>\n",
       "      <th>Model 2 Score Pred</th>\n",
       "    </tr>\n",
       "  </thead>\n",
       "  <tbody>\n",
       "    <tr>\n",
       "      <th>0</th>\n",
       "      <td>1</td>\n",
       "      <td>False</td>\n",
       "      <td>0.1026</td>\n",
       "      <td>0.2089</td>\n",
       "      <td>False</td>\n",
       "      <td>False</td>\n",
       "    </tr>\n",
       "    <tr>\n",
       "      <th>1</th>\n",
       "      <td>2</td>\n",
       "      <td>False</td>\n",
       "      <td>0.2937</td>\n",
       "      <td>0.0080</td>\n",
       "      <td>False</td>\n",
       "      <td>False</td>\n",
       "    </tr>\n",
       "    <tr>\n",
       "      <th>2</th>\n",
       "      <td>3</td>\n",
       "      <td>True</td>\n",
       "      <td>0.5120</td>\n",
       "      <td>0.8378</td>\n",
       "      <td>False</td>\n",
       "      <td>True</td>\n",
       "    </tr>\n",
       "    <tr>\n",
       "      <th>3</th>\n",
       "      <td>4</td>\n",
       "      <td>True</td>\n",
       "      <td>0.8645</td>\n",
       "      <td>0.7160</td>\n",
       "      <td>True</td>\n",
       "      <td>True</td>\n",
       "    </tr>\n",
       "    <tr>\n",
       "      <th>4</th>\n",
       "      <td>5</td>\n",
       "      <td>False</td>\n",
       "      <td>0.1987</td>\n",
       "      <td>0.1891</td>\n",
       "      <td>False</td>\n",
       "      <td>False</td>\n",
       "    </tr>\n",
       "  </tbody>\n",
       "</table>\n",
       "</div>"
      ],
      "text/plain": [
       "   ID  Target  Model 1 Score  Model 2 Score  Model 1 Score Pred  \\\n",
       "0   1   False         0.1026         0.2089               False   \n",
       "1   2   False         0.2937         0.0080               False   \n",
       "2   3    True         0.5120         0.8378               False   \n",
       "3   4    True         0.8645         0.7160                True   \n",
       "4   5   False         0.1987         0.1891               False   \n",
       "\n",
       "   Model 2 Score Pred  \n",
       "0               False  \n",
       "1               False  \n",
       "2                True  \n",
       "3                True  \n",
       "4               False  "
      ]
     },
     "execution_count": 109,
     "metadata": {},
     "output_type": "execute_result"
    }
   ],
   "source": [
    "# Transform every score into a 0 or 1 based on threshold\n",
    "def addPredictions(df, threshold):\n",
    "    df[[\"Model 1 Score Pred\", \"Model 2 Score Pred\"]] = (\n",
    "        df[[\"Model 1 Score\", \"Model 2 Score\"]] >= threshold\n",
    "    )\n",
    "    return df\n",
    "\n",
    "\n",
    "df = addPredictions(originalDf, 0.6)\n",
    "df.head()"
   ]
  },
  {
   "cell_type": "code",
   "execution_count": 110,
   "metadata": {},
   "outputs": [
    {
     "data": {
      "text/plain": [
       "'Confusion Matrix Model 1'"
      ]
     },
     "metadata": {},
     "output_type": "display_data"
    },
    {
     "data": {
      "text/html": [
       "<div>\n",
       "<style scoped>\n",
       "    .dataframe tbody tr th:only-of-type {\n",
       "        vertical-align: middle;\n",
       "    }\n",
       "\n",
       "    .dataframe tbody tr th {\n",
       "        vertical-align: top;\n",
       "    }\n",
       "\n",
       "    .dataframe thead th {\n",
       "        text-align: right;\n",
       "    }\n",
       "</style>\n",
       "<table border=\"1\" class=\"dataframe\">\n",
       "  <thead>\n",
       "    <tr style=\"text-align: right;\">\n",
       "      <th>Predicted</th>\n",
       "      <th>True</th>\n",
       "      <th>False</th>\n",
       "    </tr>\n",
       "    <tr>\n",
       "      <th>Actual</th>\n",
       "      <th></th>\n",
       "      <th></th>\n",
       "    </tr>\n",
       "  </thead>\n",
       "  <tbody>\n",
       "    <tr>\n",
       "      <th>True</th>\n",
       "      <td>11</td>\n",
       "      <td>6</td>\n",
       "    </tr>\n",
       "    <tr>\n",
       "      <th>False</th>\n",
       "      <td>2</td>\n",
       "      <td>11</td>\n",
       "    </tr>\n",
       "  </tbody>\n",
       "</table>\n",
       "</div>"
      ],
      "text/plain": [
       "Predicted  True   False\n",
       "Actual                 \n",
       "True          11      6\n",
       "False          2     11"
      ]
     },
     "metadata": {},
     "output_type": "display_data"
    },
    {
     "data": {
      "text/plain": [
       "'Confusion Matrix Model 2'"
      ]
     },
     "metadata": {},
     "output_type": "display_data"
    },
    {
     "data": {
      "text/html": [
       "<div>\n",
       "<style scoped>\n",
       "    .dataframe tbody tr th:only-of-type {\n",
       "        vertical-align: middle;\n",
       "    }\n",
       "\n",
       "    .dataframe tbody tr th {\n",
       "        vertical-align: top;\n",
       "    }\n",
       "\n",
       "    .dataframe thead th {\n",
       "        text-align: right;\n",
       "    }\n",
       "</style>\n",
       "<table border=\"1\" class=\"dataframe\">\n",
       "  <thead>\n",
       "    <tr style=\"text-align: right;\">\n",
       "      <th>Predicted</th>\n",
       "      <th>True</th>\n",
       "      <th>False</th>\n",
       "    </tr>\n",
       "    <tr>\n",
       "      <th>Actual</th>\n",
       "      <th></th>\n",
       "      <th></th>\n",
       "    </tr>\n",
       "  </thead>\n",
       "  <tbody>\n",
       "    <tr>\n",
       "      <th>True</th>\n",
       "      <td>14</td>\n",
       "      <td>3</td>\n",
       "    </tr>\n",
       "    <tr>\n",
       "      <th>False</th>\n",
       "      <td>0</td>\n",
       "      <td>13</td>\n",
       "    </tr>\n",
       "  </tbody>\n",
       "</table>\n",
       "</div>"
      ],
      "text/plain": [
       "Predicted  True   False\n",
       "Actual                 \n",
       "True          14      3\n",
       "False          0     13"
      ]
     },
     "metadata": {},
     "output_type": "display_data"
    }
   ],
   "source": [
    "# Construct a confusion matrix for each model\n",
    "def createConfusionMatrix(df, model):\n",
    "    cm = pd.crosstab(\n",
    "        df[\"Target\"], df[model], rownames=[\"Actual\"], colnames=[\"Predicted\"]\n",
    "    )\n",
    "\n",
    "    # Handle the case where there are no True or False predictions\n",
    "    if True not in cm.columns:\n",
    "        cm[True] = 0\n",
    "    if False not in cm.columns:\n",
    "        cm[False] = 0\n",
    "\n",
    "    # Make sure True and False are in the right order\n",
    "    cm.sort_index(axis=1, inplace=True, ascending=False)\n",
    "    cm.sort_index(axis=0, inplace=True, ascending=False)\n",
    "    return cm\n",
    "\n",
    "\n",
    "cm1 = createConfusionMatrix(df, \"Model 1 Score Pred\")\n",
    "cm2 = createConfusionMatrix(df, \"Model 2 Score Pred\")\n",
    "\n",
    "\n",
    "display(\"Confusion Matrix Model 1\", cm1)\n",
    "display(\"Confusion Matrix Model 2\", cm2)"
   ]
  },
  {
   "cell_type": "markdown",
   "metadata": {},
   "source": [
    "#### 3b\n"
   ]
  },
  {
   "cell_type": "code",
   "execution_count": 111,
   "metadata": {},
   "outputs": [
    {
     "name": "stdout",
     "output_type": "stream",
     "text": [
      "Model 1 Accuracy: 0.73\n",
      "Model 2 Accuracy: 0.90\n",
      "------------\n",
      "Model 1 Average Class Accuracy: 0.75\n",
      "Model 2 Average Class Accuracy: 0.91\n"
     ]
    }
   ],
   "source": [
    "def accuracy(cm):\n",
    "    tp, fn, fp, tn = cm.values.ravel()\n",
    "    return (tp + tn) / (tp + tn + fp + fn)\n",
    "\n",
    "\n",
    "def averageClassAccuracy(cm):\n",
    "    tp, fn, fp, tn = cm.values.ravel()\n",
    "    return (tp / (tp + fn) + tn / (tn + fp)) / 2\n",
    "\n",
    "\n",
    "print(f\"Model 1 Accuracy: {accuracy(cm1):.2f}\")\n",
    "print(f\"Model 2 Accuracy: {accuracy(cm2):.2f}\")\n",
    "print(\"------------\")\n",
    "print(f\"Model 1 Average Class Accuracy: {averageClassAccuracy(cm1):.2f}\")\n",
    "print(f\"Model 2 Average Class Accuracy: {averageClassAccuracy(cm2):.2f}\")"
   ]
  },
  {
   "cell_type": "markdown",
   "metadata": {},
   "source": [
    "#### 3c\n"
   ]
  },
  {
   "cell_type": "markdown",
   "metadata": {},
   "source": [
    "Based on the average class accuracy, Model 2 appears to perform better.\n"
   ]
  },
  {
   "cell_type": "markdown",
   "metadata": {},
   "source": [
    "#### 3d\n"
   ]
  },
  {
   "cell_type": "code",
   "execution_count": 112,
   "metadata": {},
   "outputs": [
    {
     "data": {
      "image/png": "[encoded data removed]",
      "text/plain": [
       "<Figure size 640x480 with 1 Axes>"
      ]
     },
     "metadata": {},
     "output_type": "display_data"
    }
   ],
   "source": [
    "# To plot the cumulative gains chart, we need to sort the data by the score\n",
    "df1 = df.sort_values(by=\"Model 1 Score\", ascending=False)\n",
    "df2 = df.sort_values(by=\"Model 2 Score\", ascending=False)\n",
    "\n",
    "# Calculate the cumulative gains\n",
    "df1[\"Cumulative Gain\"] = df1[\"Target\"].cumsum() / df1[\"Target\"].sum()\n",
    "df2[\"Cumulative Gain\"] = df2[\"Target\"].cumsum() / df2[\"Target\"].sum()\n",
    "\n",
    "# Plot the cumulative gains\n",
    "plt.plot(np.linspace(1, 100, len(df1)), df1[\"Cumulative Gain\"], label=\"Model 1\")\n",
    "plt.plot(np.linspace(1, 100, len(df2)), df2[\"Cumulative Gain\"], label=\"Model 2\")\n",
    "plt.legend()\n",
    "plt.xlabel(\"Percentage of sample\")\n",
    "plt.ylabel(\"Cumulative Gain\")\n",
    "plt.show()"
   ]
  },
  {
   "cell_type": "markdown",
   "metadata": {},
   "source": [
    "#### 3e\n"
   ]
  },
  {
   "cell_type": "markdown",
   "metadata": {},
   "source": [
    "Based on the cumulative gain chart, we would reccomend Model 2 since it has a higher cumulative gain for the 20th percentage of sample.\n"
   ]
  },
  {
   "cell_type": "markdown",
   "metadata": {},
   "source": [
    "#### 3f\n"
   ]
  },
  {
   "cell_type": "code",
   "execution_count": 126,
   "metadata": {},
   "outputs": [
    {
     "data": {
      "image/png": "[encoded data removed]",
      "text/plain": [
       "<Figure size 640x480 with 1 Axes>"
      ]
     },
     "metadata": {},
     "output_type": "display_data"
    }
   ],
   "source": [
    "def tpr(cm):\n",
    "    tp, fn, *_ = cm.values.ravel()\n",
    "    return tp / (tp + fn)\n",
    "\n",
    "\n",
    "def fpr(cm):\n",
    "    _, _, fp, tn = cm.values.ravel()\n",
    "    return fp / (fp + tn)\n",
    "\n",
    "\n",
    "# Plot an ROC curve for each threshold\n",
    "model1 = []\n",
    "model2 = []\n",
    "for threshold in np.linspace(0, 1, 100):\n",
    "    df = addPredictions(originalDf, threshold)\n",
    "    cm1 = createConfusionMatrix(df, \"Model 1 Score Pred\")\n",
    "    cm2 = createConfusionMatrix(df, \"Model 2 Score Pred\")\n",
    "\n",
    "    model1.append((fpr(cm1), tpr(cm1)))\n",
    "    model2.append((fpr(cm2), tpr(cm2)))\n",
    "\n",
    "plt.plot(*zip(*model1), \".-\", label=\"Model 1\")\n",
    "plt.plot(*zip(*model2), \".--\", label=\"Model 2\")\n",
    "plt.legend()\n",
    "plt.xlabel(\"False Positive Rate\")\n",
    "plt.ylabel(\"True Positive Rate\")\n",
    "plt.show()"
   ]
  }
 ],
 "metadata": {
  "kernelspec": {
   "display_name": "Python 3",
   "language": "python",
   "name": "python3"
  },
  "language_info": {
   "codemirror_mode": {
    "name": "ipython",
    "version": 3
   },
   "file_extension": ".py",
   "mimetype": "text/x-python",
   "name": "python",
   "nbconvert_exporter": "python",
   "pygments_lexer": "ipython3",
   "version": "3.11.7"
  }
 },
 "nbformat": 4,
 "nbformat_minor": 2
}
