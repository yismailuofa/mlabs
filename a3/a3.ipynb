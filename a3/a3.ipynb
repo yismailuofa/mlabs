{
 "cells": [
  {
   "cell_type": "code",
   "execution_count": null,
   "metadata": {
    "executionInfo": {
     "elapsed": 1243,
     "status": "ok",
     "timestamp": 1679729813534,
     "user": {
      "displayName": "Yujia Zhang",
      "userId": "18184944040601022938"
     },
     "user_tz": 360
    },
    "id": "oQEF1f5MC5H0"
   },
   "outputs": [],
   "source": [
    "import pandas as pd\n",
    "import numpy as np\n",
    "import matplotlib.pyplot as plt\n",
    "import seaborn as sns"
   ]
  },
  {
   "cell_type": "markdown",
   "metadata": {
    "id": "-4weCPAlC-CT"
   },
   "source": [
    "# Data Exploration\n"
   ]
  },
  {
   "cell_type": "markdown",
   "metadata": {
    "id": "KJNov8Klop7p"
   },
   "source": [
    "This assignment is to predict the values of the sale price by applying regression models\n",
    "\n",
    "- analysis the correlation of features, choose the features with correlation index larger than 0.2\n",
    "- dealing with categorical data\n",
    "- dealing with missing data\n"
   ]
  },
  {
   "cell_type": "code",
   "execution_count": null,
   "metadata": {
    "colab": {
     "base_uri": "https://localhost:8080/"
    },
    "executionInfo": {
     "elapsed": 417,
     "status": "ok",
     "timestamp": 1679729815321,
     "user": {
      "displayName": "Yujia Zhang",
      "userId": "18184944040601022938"
     },
     "user_tz": 360
    },
    "id": "7JlXoaiFKmxY",
    "outputId": "e9462944-7538-4642-d547-0a9e2461af0b"
   },
   "outputs": [],
   "source": [
    "# DATA: House Price Prediction\n",
    "\n",
    "data = pd.read_csv(\"data.csv\")\n",
    "originalData = data.copy()\n",
    "data.head()\n",
    "print(data.info())"
   ]
  },
  {
   "cell_type": "code",
   "execution_count": null,
   "metadata": {},
   "outputs": [],
   "source": [
    "Y = data[\"SalePrice\"]\n",
    "X = data.drop(\"SalePrice\", axis=1)\n",
    "\n",
    "X.drop(\"Id\", axis=1, inplace=True)"
   ]
  },
  {
   "cell_type": "code",
   "execution_count": null,
   "metadata": {},
   "outputs": [],
   "source": [
    "# Uncomment to see the scatter matrix\n",
    "pd.plotting.scatter_matrix(X, figsize=(100, 100))"
   ]
  },
  {
   "cell_type": "markdown",
   "metadata": {},
   "source": [
    "## Data Cleaning\n",
    "\n",
    "Pleas see: https://www.bogotobogo.com/python/scikit-learn/scikit_machine_learning_Data_Preprocessing-Missing-Data-Categorical-Data.php\n"
   ]
  },
  {
   "cell_type": "markdown",
   "metadata": {},
   "source": [
    "### Missing Data (finding and replacing)\n"
   ]
  },
  {
   "cell_type": "code",
   "execution_count": null,
   "metadata": {
    "colab": {
     "base_uri": "https://localhost:8080/",
     "height": 770
    },
    "executionInfo": {
     "elapsed": 192,
     "status": "ok",
     "timestamp": 1679729839781,
     "user": {
      "displayName": "Yujia Zhang",
      "userId": "18184944040601022938"
     },
     "user_tz": 360
    },
    "id": "G2TqEfzdmm53",
    "outputId": "79479ecf-07ad-4af0-a25a-0ac49c6d1316"
   },
   "outputs": [],
   "source": [
    "# # Drop columns with more than 50% missing values\n",
    "X.dropna(thresh=0.5 * len(X), axis=1, inplace=True)\n",
    "\n",
    "# Impute numerical columns\n",
    "from sklearn.impute import SimpleImputer\n",
    "\n",
    "cols = X.select_dtypes(include=[np.number]).columns\n",
    "X[cols] = SimpleImputer(strategy=\"mean\").fit_transform(X[cols])"
   ]
  },
  {
   "cell_type": "markdown",
   "metadata": {},
   "source": [
    "### Categorical Data (removing or replacing them)\n"
   ]
  },
  {
   "cell_type": "code",
   "execution_count": null,
   "metadata": {
    "executionInfo": {
     "elapsed": 196,
     "status": "ok",
     "timestamp": 1679729837607,
     "user": {
      "displayName": "Yujia Zhang",
      "userId": "18184944040601022938"
     },
     "user_tz": 360
    },
    "id": "fwVxNhPsnzse"
   },
   "outputs": [],
   "source": [
    "from sklearn.impute import SimpleImputer\n",
    "from sklearn.preprocessing import OneHotEncoder\n",
    "\n",
    "# Impute categorical columns\n",
    "cols = X.select_dtypes(include=[object]).columns\n",
    "X[cols] = SimpleImputer(strategy=\"most_frequent\").fit_transform(X[cols])\n",
    "\n",
    "# One hot encode categorical columns\n",
    "encoder = OneHotEncoder(handle_unknown=\"ignore\", drop=\"first\", sparse_output=False)\n",
    "encoded = pd.DataFrame(\n",
    "    encoder.fit_transform(X[cols]), columns=encoder.get_feature_names_out(cols)\n",
    ")\n",
    "\n",
    "\n",
    "# Replace categorical columns with encoded columns\n",
    "X.drop(cols, axis=1, inplace=True)\n",
    "X = pd.concat([X, encoded], axis=1)"
   ]
  },
  {
   "cell_type": "markdown",
   "metadata": {},
   "source": [
    "## Correlation\n"
   ]
  },
  {
   "cell_type": "code",
   "execution_count": null,
   "metadata": {},
   "outputs": [],
   "source": [
    "# Find features with correlation to sale price > 0.2\n",
    "correlation = pd.concat([X, Y], axis=1).corr()\n",
    "\n",
    "features = correlation[\"SalePrice\"]\n",
    "features = features[features > 0.2]\n",
    "features.drop(\"SalePrice\", inplace=True)\n",
    "\n",
    "\n",
    "X = X[features.index]"
   ]
  },
  {
   "cell_type": "markdown",
   "metadata": {},
   "source": [
    "## Heatmap\n"
   ]
  },
  {
   "cell_type": "code",
   "execution_count": null,
   "metadata": {},
   "outputs": [],
   "source": [
    "# heatmap\n",
    "plt.figure(figsize=(50, 50))\n",
    "\n",
    "correlation = pd.concat([X, Y], axis=1).corr()\n",
    "sns.heatmap(correlation, annot=True, cmap=\"coolwarm\")"
   ]
  },
  {
   "cell_type": "markdown",
   "metadata": {
    "id": "uUJasIV_C-6I"
   },
   "source": [
    "# Linear Regression\n"
   ]
  },
  {
   "cell_type": "markdown",
   "metadata": {
    "id": "1LtulD6kJ3_B"
   },
   "source": [
    "Please answer the following questions:\n",
    "\n",
    "1. what is linear regression?\n",
    "\n",
    "**Linear regression** is a model that assumes a linear relationship between input variables ($x$ o _Features_) and a single output variable ($y$), where the output variable ($y$) can be calculated from a linear combination of the input variables ($x$). [In class definition]\n",
    "\n",
    "2. why we choose the linear regression model?\n",
    "\n",
    "**Linear regression** is a simple model which is easy to understand and interpret. It is a good starting point for regression tasks. It is also a good model to use when the relationship between the input and output variables is approximately linear.\n"
   ]
  },
  {
   "cell_type": "code",
   "execution_count": null,
   "metadata": {
    "executionInfo": {
     "elapsed": 242,
     "status": "ok",
     "timestamp": 1679730810819,
     "user": {
      "displayName": "Yujia Zhang",
      "userId": "18184944040601022938"
     },
     "user_tz": 360
    },
    "id": "M4VwRe3HDnAF"
   },
   "outputs": [],
   "source": [
    "# data preperation (split ...)\n",
    "from sklearn.model_selection import train_test_split\n",
    "\n",
    "X_train, X_test, Y_train, Y_test = train_test_split(\n",
    "    X, Y, test_size=0.2, random_state=42\n",
    ")"
   ]
  },
  {
   "cell_type": "code",
   "execution_count": null,
   "metadata": {
    "colab": {
     "base_uri": "https://localhost:8080/"
    },
    "executionInfo": {
     "elapsed": 177,
     "status": "ok",
     "timestamp": 1679731080139,
     "user": {
      "displayName": "Yujia Zhang",
      "userId": "18184944040601022938"
     },
     "user_tz": 360
    },
    "id": "lgnAVUvSKM_1",
    "outputId": "318ebc82-d61d-4cd3-eca4-f12510ae8225"
   },
   "outputs": [],
   "source": [
    "# linear regression\n",
    "from sklearn.linear_model import LinearRegression\n",
    "\n",
    "model = LinearRegression()\n",
    "\n",
    "model.fit(X_train, Y_train)"
   ]
  },
  {
   "cell_type": "code",
   "execution_count": null,
   "metadata": {
    "id": "ZSBa9pbO3kxO"
   },
   "outputs": [],
   "source": [
    "# evaluation\n",
    "\n",
    "from sklearn.metrics import mean_absolute_error, mean_squared_error, r2_score\n",
    "\n",
    "\n",
    "Y_pred = model.predict(X_test)\n",
    "\n",
    "\n",
    "def printScores(Y_test, Y_pred):\n",
    "    print(\"MAE: \", mean_absolute_error(Y_test, Y_pred))\n",
    "    print(\"RMSE: \", np.sqrt(mean_squared_error(Y_test, Y_pred)))\n",
    "    print(\"R2 Score: \", r2_score(Y_test, Y_pred))\n",
    "\n",
    "\n",
    "printScores(Y_test, Y_pred)"
   ]
  },
  {
   "cell_type": "markdown",
   "metadata": {
    "id": "GcMSSZ7P3lXf"
   },
   "source": [
    "3.  what are scaling techniques?\n",
    "\n",
    "**Scaling** is a technique used to normalize the range of independent variables or features of data. It is generally useful to normalize the input data before feeding it to the model. There are two common scaling techniques: **Standardization** and **Normalization**. Standardization is the process of rescaling the features so that they have the properties of a standard normal distribution with a mean of 0 and a standard deviation of 1. Normalization is the process of scaling individual samples to have unit norm.\n",
    "\n",
    "Using two scaling method to train the linear regression again.\\\n",
    "Comment on the differences (if any) in the results.\n",
    "\n",
    "Comments:\n",
    "\n",
    "- The results of the model trained with the scaled data are better than the model trained with the unscaled data.\n",
    "\n",
    "- The results of the normalized data are significantly worse than the results of the standardized data and the unscaled data.\n"
   ]
  },
  {
   "cell_type": "code",
   "execution_count": null,
   "metadata": {
    "colab": {
     "base_uri": "https://localhost:8080/",
     "height": 263
    },
    "executionInfo": {
     "elapsed": 267,
     "status": "error",
     "timestamp": 1679733080941,
     "user": {
      "displayName": "Yujia Zhang",
      "userId": "18184944040601022938"
     },
     "user_tz": 360
    },
    "id": "5YF9XP81xIub",
    "outputId": "0b1c1b5e-9eb6-494a-cc41-ffc0bf8bd6ee"
   },
   "outputs": [],
   "source": [
    "# Using normalization\n",
    "\n",
    "from sklearn.preprocessing import Normalizer\n",
    "\n",
    "scaler = Normalizer()\n",
    "\n",
    "X_train_scaled = scaler.fit_transform(X_train)\n",
    "X_test_scaled = scaler.transform(X_test)\n",
    "\n",
    "X_train_scaled = pd.DataFrame(X_train_scaled, columns=X_train.columns)\n",
    "X_test_scaled = pd.DataFrame(X_test_scaled, columns=X_test.columns)\n",
    "\n",
    "model.fit(X_train_scaled, Y_train)\n",
    "\n",
    "Y_pred = model.predict(X_test_scaled)\n",
    "\n",
    "printScores(Y_test, Y_pred)"
   ]
  },
  {
   "cell_type": "code",
   "execution_count": null,
   "metadata": {
    "colab": {
     "base_uri": "https://localhost:8080/"
    },
    "executionInfo": {
     "elapsed": 200,
     "status": "ok",
     "timestamp": 1679731101198,
     "user": {
      "displayName": "Yujia Zhang",
      "userId": "18184944040601022938"
     },
     "user_tz": 360
    },
    "id": "XhOwaAyiKZ8L",
    "outputId": "b318b544-b4fb-4d2c-a52f-f1e3a33faf5e"
   },
   "outputs": [],
   "source": [
    "# Using Standardization\n",
    "from sklearn.preprocessing import StandardScaler\n",
    "\n",
    "scaler = StandardScaler()\n",
    "\n",
    "X_train_std = scaler.fit_transform(X_train)\n",
    "X_test_std = scaler.transform(X_test)\n",
    "\n",
    "X_train_std = pd.DataFrame(X_train_std, columns=X_train.columns)\n",
    "X_test_std = pd.DataFrame(X_test_std, columns=X_test.columns)\n",
    "\n",
    "model = LinearRegression()\n",
    "model.fit(X_train_std, Y_train)\n",
    "\n",
    "Y_pred = model.predict(X_test_std)\n",
    "\n",
    "printScores(Y_test, Y_pred)"
   ]
  },
  {
   "cell_type": "markdown",
   "metadata": {
    "id": "6OTKbHZ_C_n2"
   },
   "source": [
    "# Logistic Regression\n"
   ]
  },
  {
   "cell_type": "markdown",
   "metadata": {
    "id": "jvvUSNqi7P39"
   },
   "source": [
    "Please answer the following questions:\n",
    "\n",
    "1. what is logistic regression?\n",
    "\n",
    "Logistic regression is a classification method used to assign observations to a discrete set of classes. The method is similar to linear regression with the difference that, instead of outputing continuous values, logistic regression generates outputs over a discrete set of values (classes, categories). To determine the classes, logistic regression uses a function (sigmoid, softmax) to map a probabilistic output to two or more discrete classes. [In class definition]\n",
    "\n",
    "2. why we use the logistic regression model?\n",
    "\n",
    "Logistic regression is a simple model that is easy to understand and interpret. It is a good starting point for classification tasks. It is also a good model to use when the relationship between the input and output variables is approximately linear. It allows us to predict the probability of an observation belonging to a particular class.\n",
    "\n",
    "Please assume: if the sale price is less than 200,000 - label 0, otherwise - label 1.\n"
   ]
  },
  {
   "cell_type": "code",
   "execution_count": null,
   "metadata": {
    "executionInfo": {
     "elapsed": 203,
     "status": "ok",
     "timestamp": 1679734071438,
     "user": {
      "displayName": "Yujia Zhang",
      "userId": "18184944040601022938"
     },
     "user_tz": 360
    },
    "id": "38HGbVOJDn78"
   },
   "outputs": [],
   "source": [
    "# data preperation (assign categories, split ...)\n",
    "\n",
    "# We will use the same split but we will assign categories to the SalePrice column\n",
    "Y = Y.apply(lambda x: 0 if x < 200000 else 1)\n",
    "\n",
    "X_train, X_test, Y_train, Y_test = train_test_split(\n",
    "    X, Y, test_size=0.2, random_state=42\n",
    ")"
   ]
  },
  {
   "cell_type": "code",
   "execution_count": null,
   "metadata": {
    "colab": {
     "base_uri": "https://localhost:8080/"
    },
    "executionInfo": {
     "elapsed": 280,
     "status": "ok",
     "timestamp": 1679734074694,
     "user": {
      "displayName": "Yujia Zhang",
      "userId": "18184944040601022938"
     },
     "user_tz": 360
    },
    "id": "1pNjl61a2iKe",
    "outputId": "83b4f65d-3d67-45ea-88ff-dd9b7f1dc4e6"
   },
   "outputs": [],
   "source": [
    "# use function LogisticRegression()\n",
    "# display precition, recall, classification_report\n",
    "\n",
    "from sklearn.linear_model import LogisticRegression\n",
    "\n",
    "model = LogisticRegression()\n",
    "\n",
    "model.fit(X_train, Y_train)\n",
    "\n",
    "Y_pred = model.predict(X_test)\n",
    "\n",
    "from sklearn.metrics import precision_score, recall_score, classification_report\n",
    "\n",
    "print(\"Precision: \", precision_score(Y_test, Y_pred))\n",
    "print(\"Recall: \", recall_score(Y_test, Y_pred))\n",
    "print(classification_report(Y_test, Y_pred))"
   ]
  },
  {
   "cell_type": "code",
   "execution_count": null,
   "metadata": {},
   "outputs": [],
   "source": []
  }
 ],
 "metadata": {
  "colab": {
   "authorship_tag": "ABX9TyOkZNKhw6EEvuI/4wWVG9nL",
   "provenance": [],
   "toc_visible": true
  },
  "kernelspec": {
   "display_name": "Python 3 (ipykernel)",
   "language": "python",
   "name": "python3"
  },
  "language_info": {
   "codemirror_mode": {
    "name": "ipython",
    "version": 3
   },
   "file_extension": ".py",
   "mimetype": "text/x-python",
   "name": "python",
   "nbconvert_exporter": "python",
   "pygments_lexer": "ipython3",
   "version": "3.11.7"
  },
  "toc": {
   "base_numbering": 1,
   "nav_menu": {},
   "number_sections": true,
   "sideBar": true,
   "skip_h1_title": false,
   "title_cell": "Table of Contents",
   "title_sidebar": "Contents",
   "toc_cell": false,
   "toc_position": {},
   "toc_section_display": true,
   "toc_window_display": false
  }
 },
 "nbformat": 4,
 "nbformat_minor": 1
}
